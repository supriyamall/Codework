{
 "cells": [
  {
   "attachments": {},
   "cell_type": "markdown",
   "id": "af33ee57",
   "metadata": {},
   "source": [
    "# Prime Numbers"
   ]
  },
  {
   "cell_type": "code",
   "execution_count": 1,
   "id": "727062cd",
   "metadata": {},
   "outputs": [
    {
     "name": "stdout",
     "output_type": "stream",
     "text": [
      "Enter a number: 22\n",
      "22 is not a prime number\n",
      "2 times 11 is 22\n"
     ]
    }
   ],
   "source": [
    "num=int(input(\"Enter a number: \"))\n",
    "if num==1:\n",
    "    print(num,\"is not a prime number\")\n",
    "elif num>1:\n",
    "    for i in range(2,num):\n",
    "        if(num%i)==0:\n",
    "            print(num,\"is not a prime number\")\n",
    "            print(i,\"times\",num//i,\"is\",num)\n",
    "            break\n",
    "    else:\n",
    "        print(num,\"is a prime number\")\n",
    "else:\n",
    "    print(num,\"is not a prime number\")\n",
    "    "
   ]
  },
  {
   "cell_type": "code",
   "execution_count": 2,
   "id": "fea84c09",
   "metadata": {},
   "outputs": [
    {
     "name": "stdout",
     "output_type": "stream",
     "text": [
      "Enter a number: 23\n",
      "23 is a prime number\n"
     ]
    }
   ],
   "source": [
    "num=int(input(\"Enter a number: \"))\n",
    "if num==1:\n",
    "    print(num,\"is not a prime number\")\n",
    "elif num>1:\n",
    "    for i in range(2,num):\n",
    "        if(num%i)==0:\n",
    "            print(num,\"is not a prime number\")\n",
    "            print(i,\"times\",num//i,\"is\",num)\n",
    "            break\n",
    "    else:\n",
    "        print(num,\"is a prime number\")\n",
    "else:\n",
    "    print(num,\"is not a prime number\")\n",
    "    "
   ]
  },
  {
   "attachments": {},
   "cell_type": "markdown",
   "id": "03072b10",
   "metadata": {},
   "source": [
    "# Product of Random numbers"
   ]
  },
  {
   "cell_type": "code",
   "execution_count": 3,
   "id": "9627179d",
   "metadata": {},
   "outputs": [
    {
     "name": "stdout",
     "output_type": "stream",
     "text": [
      "what is 4 X 7?34\n",
      "Wrong! The correct answer is 28.\n",
      "what is 1 X 10?9\n",
      "Wrong! The correct answer is 10.\n",
      "what is 6 X 9?54\n",
      "Correct!\n"
     ]
    }
   ],
   "source": [
    "import random\n",
    "for i in range(10):\n",
    "    num1=random.randint(1,10)\n",
    "    num2=random.randint(1,10)\n",
    "    answer=num1*num2\n",
    "    user_answer=int(input(f\"what is {num1} X {num2}?\"))\n",
    "    if user_answer==answer:\n",
    "        print(\"Correct!\")\n",
    "        break\n",
    "    else:\n",
    "        print(f\"Wrong! The correct answer is {answer}.\")\n",
    "        "
   ]
  },
  {
   "attachments": {},
   "cell_type": "markdown",
   "id": "67cbd810",
   "metadata": {},
   "source": [
    "# squares of even/odd numbers"
   ]
  },
  {
   "cell_type": "code",
   "execution_count": 4,
   "id": "da8b613f",
   "metadata": {},
   "outputs": [
    {
     "name": "stdout",
     "output_type": "stream",
     "text": [
      "[10000, 10404, 10816, 11236, 11664, 12100, 12544, 12996, 13456, 13924, 14400, 14884, 15376, 15876, 16384, 16900, 17424, 17956, 18496, 19044, 19600, 20164, 20736, 21316, 21904, 22500, 23104, 23716, 24336, 24964, 25600, 26244, 26896, 27556, 28224, 28900, 29584, 30276, 30976, 31684, 32400, 33124, 33856, 34596, 35344, 36100, 36864, 37636, 38416, 39204]\n"
     ]
    }
   ],
   "source": [
    "even_squares=[x**2 for x in range(100,200,2)]\n",
    "print(even_squares)"
   ]
  },
  {
   "cell_type": "code",
   "execution_count": 5,
   "id": "e3d0a43c",
   "metadata": {},
   "outputs": [
    {
     "name": "stdout",
     "output_type": "stream",
     "text": [
      "[10000, 10201, 10404, 10609, 10816, 11025, 11236, 11449, 11664, 11881, 12100, 12321, 12544, 12769, 12996, 13225, 13456, 13689, 13924, 14161, 14400, 14641, 14884, 15129, 15376, 15625, 15876, 16129, 16384, 16641, 16900, 17161, 17424, 17689, 17956, 18225, 18496, 18769, 19044, 19321, 19600, 19881, 20164, 20449, 20736, 21025, 21316, 21609, 21904, 22201, 22500, 22801, 23104, 23409, 23716, 24025, 24336, 24649, 24964, 25281, 25600, 25921, 26244, 26569, 26896, 27225, 27556, 27889, 28224, 28561, 28900, 29241, 29584, 29929, 30276, 30625, 30976, 31329, 31684, 32041, 32400, 32761, 33124, 33489, 33856, 34225, 34596, 34969, 35344, 35721, 36100, 36481, 36864, 37249, 37636, 38025, 38416, 38809, 39204, 39601]\n"
     ]
    }
   ],
   "source": [
    "odd_squares=[x**2 for x in range(100,200,1)]\n",
    "print(odd_squares)"
   ]
  },
  {
   "attachments": {},
   "cell_type": "markdown",
   "id": "3c22d1a2",
   "metadata": {},
   "source": [
    "# Word counter"
   ]
  },
  {
   "cell_type": "code",
   "execution_count": 26,
   "id": "22204522",
   "metadata": {},
   "outputs": [
    {
     "name": "stdout",
     "output_type": "stream",
     "text": [
      "{'python': 2, 'is': 2, 'open': 1, 'source': 1, 'language': 1, 'case': 1, 'sensitive': 1}\n"
     ]
    }
   ],
   "source": [
    "def word_count(str):\n",
    "    counts=dict()\n",
    "    words=str.split()\n",
    "    \n",
    "    for word in words:\n",
    "        if word in counts:\n",
    "            counts[word]+=1\n",
    "        else:\n",
    "            counts[word]=1\n",
    "    return counts\n",
    "print(word_count('python is open source language python is case sensitive'))"
   ]
  },
  {
   "attachments": {},
   "cell_type": "markdown",
   "id": "6b7d373d",
   "metadata": {},
   "source": [
    "# palindrome"
   ]
  },
  {
   "cell_type": "code",
   "execution_count": 27,
   "id": "a4647e0f",
   "metadata": {
    "scrolled": true
   },
   "outputs": [
    {
     "name": "stdout",
     "output_type": "stream",
     "text": [
      "Enter a string:stats\n",
      "stats is a palindrome\n"
     ]
    }
   ],
   "source": [
    "n=input(\"Enter a string:\")\n",
    "if n==n[::-1]:\n",
    "    print(n+\" is a palindrome\")\n",
    "else:\n",
    "    print(n+\" is not a polindrome\")"
   ]
  },
  {
   "cell_type": "code",
   "execution_count": 28,
   "id": "0305abbf",
   "metadata": {
    "scrolled": true
   },
   "outputs": [
    {
     "name": "stdout",
     "output_type": "stream",
     "text": [
      "Enter a string:book\n",
      "book is not a polindrome\n"
     ]
    }
   ],
   "source": [
    "n=input(\"Enter a string:\")\n",
    "if n==n[::-1]:\n",
    "    print(n+\" is a palindrome\")\n",
    "else:\n",
    "    print(n+\" is not a polindrome\")"
   ]
  },
  {
   "cell_type": "code",
   "execution_count": null,
   "id": "ca484eb0",
   "metadata": {},
   "outputs": [],
   "source": []
  },
  {
   "cell_type": "code",
   "execution_count": null,
   "id": "1c9f4685",
   "metadata": {},
   "outputs": [],
   "source": []
  }
 ],
 "metadata": {
  "kernelspec": {
   "display_name": "Python 3 (ipykernel)",
   "language": "python",
   "name": "python3"
  },
  "language_info": {
   "codemirror_mode": {
    "name": "ipython",
    "version": 3
   },
   "file_extension": ".py",
   "mimetype": "text/x-python",
   "name": "python",
   "nbconvert_exporter": "python",
   "pygments_lexer": "ipython3",
   "version": "3.11.5"
  }
 },
 "nbformat": 4,
 "nbformat_minor": 5
}
