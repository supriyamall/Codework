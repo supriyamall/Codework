{
 "cells": [
  {
   "attachments": {},
   "cell_type": "markdown",
   "id": "e5a683a6",
   "metadata": {},
   "source": [
    "# Confidence interval"
   ]
  },
  {
   "cell_type": "code",
   "execution_count": 1,
   "id": "727aaf58",
   "metadata": {},
   "outputs": [],
   "source": [
    "import pandas as pd\n",
    "import numpy as np\n",
    "from scipy.stats import stats\n",
    "import math"
   ]
  },
  {
   "attachments": {},
   "cell_type": "markdown",
   "id": "741f9287",
   "metadata": {},
   "source": [
    "# Data\n",
    "A total of 15 print-heads were randomly selected and tested until failure. The durability of each print-head (in millions of characters) was recorded as follows:\n",
    "1.13, 1.55, 1.43, 0.92, 1.25, 1.36, 1.32, 0.85, 1.07, 1.48, 1.20, 1.33, 1.18, 1.22, 1.29\n"
   ]
  },
  {
   "cell_type": "code",
   "execution_count": 2,
   "id": "72d580a6",
   "metadata": {},
   "outputs": [],
   "source": [
    "x=[1.13, 1.55, 1.43, 0.92, 1.25, 1.36, 1.32, 0.85, 1.07, 1.48, 1.20, 1.33, 1.18, 1.22, 1.29]"
   ]
  },
  {
   "cell_type": "code",
   "execution_count": 3,
   "id": "ac9b5303",
   "metadata": {},
   "outputs": [],
   "source": [
    "data=pd.DataFrame(x,columns=['Durability(in millions)'])"
   ]
  },
  {
   "cell_type": "code",
   "execution_count": 4,
   "id": "c78e47bb",
   "metadata": {},
   "outputs": [
    {
     "data": {
      "text/html": [
       "<div>\n",
       "<style scoped>\n",
       "    .dataframe tbody tr th:only-of-type {\n",
       "        vertical-align: middle;\n",
       "    }\n",
       "\n",
       "    .dataframe tbody tr th {\n",
       "        vertical-align: top;\n",
       "    }\n",
       "\n",
       "    .dataframe thead th {\n",
       "        text-align: right;\n",
       "    }\n",
       "</style>\n",
       "<table border=\"1\" class=\"dataframe\">\n",
       "  <thead>\n",
       "    <tr style=\"text-align: right;\">\n",
       "      <th></th>\n",
       "      <th>Durability(in millions)</th>\n",
       "    </tr>\n",
       "  </thead>\n",
       "  <tbody>\n",
       "    <tr>\n",
       "      <th>0</th>\n",
       "      <td>1.13</td>\n",
       "    </tr>\n",
       "    <tr>\n",
       "      <th>1</th>\n",
       "      <td>1.55</td>\n",
       "    </tr>\n",
       "    <tr>\n",
       "      <th>2</th>\n",
       "      <td>1.43</td>\n",
       "    </tr>\n",
       "    <tr>\n",
       "      <th>3</th>\n",
       "      <td>0.92</td>\n",
       "    </tr>\n",
       "    <tr>\n",
       "      <th>4</th>\n",
       "      <td>1.25</td>\n",
       "    </tr>\n",
       "    <tr>\n",
       "      <th>5</th>\n",
       "      <td>1.36</td>\n",
       "    </tr>\n",
       "    <tr>\n",
       "      <th>6</th>\n",
       "      <td>1.32</td>\n",
       "    </tr>\n",
       "    <tr>\n",
       "      <th>7</th>\n",
       "      <td>0.85</td>\n",
       "    </tr>\n",
       "    <tr>\n",
       "      <th>8</th>\n",
       "      <td>1.07</td>\n",
       "    </tr>\n",
       "    <tr>\n",
       "      <th>9</th>\n",
       "      <td>1.48</td>\n",
       "    </tr>\n",
       "    <tr>\n",
       "      <th>10</th>\n",
       "      <td>1.20</td>\n",
       "    </tr>\n",
       "    <tr>\n",
       "      <th>11</th>\n",
       "      <td>1.33</td>\n",
       "    </tr>\n",
       "    <tr>\n",
       "      <th>12</th>\n",
       "      <td>1.18</td>\n",
       "    </tr>\n",
       "    <tr>\n",
       "      <th>13</th>\n",
       "      <td>1.22</td>\n",
       "    </tr>\n",
       "    <tr>\n",
       "      <th>14</th>\n",
       "      <td>1.29</td>\n",
       "    </tr>\n",
       "  </tbody>\n",
       "</table>\n",
       "</div>"
      ],
      "text/plain": [
       "    Durability(in millions)\n",
       "0                      1.13\n",
       "1                      1.55\n",
       "2                      1.43\n",
       "3                      0.92\n",
       "4                      1.25\n",
       "5                      1.36\n",
       "6                      1.32\n",
       "7                      0.85\n",
       "8                      1.07\n",
       "9                      1.48\n",
       "10                     1.20\n",
       "11                     1.33\n",
       "12                     1.18\n",
       "13                     1.22\n",
       "14                     1.29"
      ]
     },
     "execution_count": 4,
     "metadata": {},
     "output_type": "execute_result"
    }
   ],
   "source": [
    "data"
   ]
  },
  {
   "attachments": {},
   "cell_type": "markdown",
   "id": "3d34fc70",
   "metadata": {},
   "source": [
    "# a. Build 99% Confidence Interval Using Sample Standard Deviation\n",
    " Assuming the sample is representative of the population, construct a 99% confidence interval for the mean number of characters printed before the print-head fails using the sample standard deviation. Explain the steps you take and the rationale behind using the t-distribution for this task.\n"
   ]
  },
  {
   "cell_type": "code",
   "execution_count": 40,
   "id": "2562a8bc",
   "metadata": {},
   "outputs": [],
   "source": [
    "mean=np.mean(x)"
   ]
  },
  {
   "cell_type": "code",
   "execution_count": 41,
   "id": "d966e9e9",
   "metadata": {},
   "outputs": [
    {
     "data": {
      "text/plain": [
       "1.2386666666666666"
      ]
     },
     "execution_count": 41,
     "metadata": {},
     "output_type": "execute_result"
    }
   ],
   "source": [
    "mean"
   ]
  },
  {
   "cell_type": "code",
   "execution_count": 42,
   "id": "0e88a3bc",
   "metadata": {},
   "outputs": [],
   "source": [
    "var=np.var(x)"
   ]
  },
  {
   "cell_type": "code",
   "execution_count": 43,
   "id": "2c3125d2",
   "metadata": {},
   "outputs": [
    {
     "data": {
      "text/plain": [
       "0.0348248888888889"
      ]
     },
     "execution_count": 43,
     "metadata": {},
     "output_type": "execute_result"
    }
   ],
   "source": [
    "var"
   ]
  },
  {
   "cell_type": "code",
   "execution_count": 44,
   "id": "658befeb",
   "metadata": {},
   "outputs": [],
   "source": [
    "std_dev=np.std(x)"
   ]
  },
  {
   "cell_type": "code",
   "execution_count": 45,
   "id": "07d88eac",
   "metadata": {},
   "outputs": [
    {
     "data": {
      "text/plain": [
       "0.18661427836285438"
      ]
     },
     "execution_count": 45,
     "metadata": {},
     "output_type": "execute_result"
    }
   ],
   "source": [
    "std_dev"
   ]
  },
  {
   "cell_type": "code",
   "execution_count": 46,
   "id": "7aeef836",
   "metadata": {},
   "outputs": [
    {
     "data": {
      "text/plain": [
       "15"
      ]
     },
     "execution_count": 46,
     "metadata": {},
     "output_type": "execute_result"
    }
   ],
   "source": [
    "n=len(x)\n",
    "n"
   ]
  },
  {
   "cell_type": "code",
   "execution_count": 48,
   "id": "84467633",
   "metadata": {},
   "outputs": [],
   "source": [
    "df=n-1 # df=degree of freedom"
   ]
  },
  {
   "cell_type": "code",
   "execution_count": 49,
   "id": "f6269767",
   "metadata": {},
   "outputs": [],
   "source": [
    "# calculate t-critical value for 99% confidence intervel"
   ]
  },
  {
   "cell_type": "code",
   "execution_count": 50,
   "id": "0cf736b3",
   "metadata": {},
   "outputs": [],
   "source": [
    "t_critical=stats.t.interval(0.99,14)"
   ]
  },
  {
   "cell_type": "code",
   "execution_count": 51,
   "id": "6ae4b7b9",
   "metadata": {},
   "outputs": [
    {
     "data": {
      "text/plain": [
       "(-2.97684273411266, 2.97684273411266)"
      ]
     },
     "execution_count": 51,
     "metadata": {},
     "output_type": "execute_result"
    }
   ],
   "source": [
    "t_critical"
   ]
  },
  {
   "cell_type": "code",
   "execution_count": 52,
   "id": "2ed769cc",
   "metadata": {},
   "outputs": [],
   "source": [
    "# calculating marigin of error"
   ]
  },
  {
   "cell_type": "code",
   "execution_count": 53,
   "id": "ab704fd0",
   "metadata": {},
   "outputs": [
    {
     "data": {
      "text/plain": [
       "0.14343499802810397"
      ]
     },
     "execution_count": 53,
     "metadata": {},
     "output_type": "execute_result"
    }
   ],
   "source": [
    "marigin_of_error=2.97684273411266*(std_dev/math.sqrt(n)) \n",
    "marigin_of_error"
   ]
  },
  {
   "cell_type": "code",
   "execution_count": 55,
   "id": "5c372202",
   "metadata": {},
   "outputs": [
    {
     "data": {
      "text/plain": [
       "(1.0952316686385626, 1.3821016646947706)"
      ]
     },
     "execution_count": 55,
     "metadata": {},
     "output_type": "execute_result"
    }
   ],
   "source": [
    "# calculating confidence interval\n",
    "confidence_interval=(mean-marigin_of_error,mean+marigin_of_error)\n",
    "confidence_interval"
   ]
  },
  {
   "cell_type": "code",
   "execution_count": 56,
   "id": "b3ebb2ec",
   "metadata": {},
   "outputs": [
    {
     "name": "stdout",
     "output_type": "stream",
     "text": [
      "Sample mean: 1.2386666666666666\n",
      "Sample standard deviation: 0.18661427836285438\n",
      "Degree of freedom: 14\n",
      "t_critical value: (-2.97684273411266, 2.97684273411266)\n",
      "Marigin of Error: 0.14343499802810397\n",
      "99% confidence interval: (1.0952316686385626, 1.3821016646947706)\n"
     ]
    }
   ],
   "source": [
    "print(\"Sample mean:\",mean)\n",
    "print(\"Sample standard deviation:\",std_dev)\n",
    "print(\"Degree of freedom:\",df)\n",
    "print(\"t_critical value:\",t_critical)\n",
    "print(\"Marigin of Error:\",marigin_of_error)\n",
    "print(\"99% confidence interval:\",confidence_interval)"
   ]
  },
  {
   "attachments": {},
   "cell_type": "markdown",
   "id": "9ef06b5e",
   "metadata": {},
   "source": [
    "# b. Build 99% Confidence Interval Using Known Population Standard Deviation\n",
    "If it were known that the population standard deviation is 0.2 million characters, construct a 99% confidence interval for the mean number of characters printed before failure.\n",
    "\n"
   ]
  },
  {
   "cell_type": "code",
   "execution_count": 57,
   "id": "a29670dc",
   "metadata": {},
   "outputs": [
    {
     "data": {
      "text/html": [
       "<div>\n",
       "<style scoped>\n",
       "    .dataframe tbody tr th:only-of-type {\n",
       "        vertical-align: middle;\n",
       "    }\n",
       "\n",
       "    .dataframe tbody tr th {\n",
       "        vertical-align: top;\n",
       "    }\n",
       "\n",
       "    .dataframe thead th {\n",
       "        text-align: right;\n",
       "    }\n",
       "</style>\n",
       "<table border=\"1\" class=\"dataframe\">\n",
       "  <thead>\n",
       "    <tr style=\"text-align: right;\">\n",
       "      <th></th>\n",
       "      <th>Durability(in millions)</th>\n",
       "    </tr>\n",
       "  </thead>\n",
       "  <tbody>\n",
       "    <tr>\n",
       "      <th>0</th>\n",
       "      <td>1.13</td>\n",
       "    </tr>\n",
       "    <tr>\n",
       "      <th>1</th>\n",
       "      <td>1.55</td>\n",
       "    </tr>\n",
       "    <tr>\n",
       "      <th>2</th>\n",
       "      <td>1.43</td>\n",
       "    </tr>\n",
       "    <tr>\n",
       "      <th>3</th>\n",
       "      <td>0.92</td>\n",
       "    </tr>\n",
       "    <tr>\n",
       "      <th>4</th>\n",
       "      <td>1.25</td>\n",
       "    </tr>\n",
       "    <tr>\n",
       "      <th>5</th>\n",
       "      <td>1.36</td>\n",
       "    </tr>\n",
       "    <tr>\n",
       "      <th>6</th>\n",
       "      <td>1.32</td>\n",
       "    </tr>\n",
       "    <tr>\n",
       "      <th>7</th>\n",
       "      <td>0.85</td>\n",
       "    </tr>\n",
       "    <tr>\n",
       "      <th>8</th>\n",
       "      <td>1.07</td>\n",
       "    </tr>\n",
       "    <tr>\n",
       "      <th>9</th>\n",
       "      <td>1.48</td>\n",
       "    </tr>\n",
       "    <tr>\n",
       "      <th>10</th>\n",
       "      <td>1.20</td>\n",
       "    </tr>\n",
       "    <tr>\n",
       "      <th>11</th>\n",
       "      <td>1.33</td>\n",
       "    </tr>\n",
       "    <tr>\n",
       "      <th>12</th>\n",
       "      <td>1.18</td>\n",
       "    </tr>\n",
       "    <tr>\n",
       "      <th>13</th>\n",
       "      <td>1.22</td>\n",
       "    </tr>\n",
       "    <tr>\n",
       "      <th>14</th>\n",
       "      <td>1.29</td>\n",
       "    </tr>\n",
       "  </tbody>\n",
       "</table>\n",
       "</div>"
      ],
      "text/plain": [
       "    Durability(in millions)\n",
       "0                      1.13\n",
       "1                      1.55\n",
       "2                      1.43\n",
       "3                      0.92\n",
       "4                      1.25\n",
       "5                      1.36\n",
       "6                      1.32\n",
       "7                      0.85\n",
       "8                      1.07\n",
       "9                      1.48\n",
       "10                     1.20\n",
       "11                     1.33\n",
       "12                     1.18\n",
       "13                     1.22\n",
       "14                     1.29"
      ]
     },
     "execution_count": 57,
     "metadata": {},
     "output_type": "execute_result"
    }
   ],
   "source": [
    "data"
   ]
  },
  {
   "cell_type": "code",
   "execution_count": 58,
   "id": "8b8765ef",
   "metadata": {},
   "outputs": [
    {
     "data": {
      "text/plain": [
       "1.2386666666666666"
      ]
     },
     "execution_count": 58,
     "metadata": {},
     "output_type": "execute_result"
    }
   ],
   "source": [
    "mean"
   ]
  },
  {
   "cell_type": "code",
   "execution_count": 59,
   "id": "f7d6ffca",
   "metadata": {},
   "outputs": [
    {
     "data": {
      "text/plain": [
       "0.18661427836285438"
      ]
     },
     "execution_count": 59,
     "metadata": {},
     "output_type": "execute_result"
    }
   ],
   "source": [
    "std_dev"
   ]
  },
  {
   "cell_type": "code",
   "execution_count": 61,
   "id": "bceff391",
   "metadata": {},
   "outputs": [
    {
     "data": {
      "text/plain": [
       "(-2.5758293035489004, 2.5758293035489004)"
      ]
     },
     "execution_count": 61,
     "metadata": {},
     "output_type": "execute_result"
    }
   ],
   "source": [
    "z_score=stats.norm.interval(0.99)\n",
    "z_score"
   ]
  },
  {
   "cell_type": "code",
   "execution_count": 64,
   "id": "206eb157",
   "metadata": {},
   "outputs": [
    {
     "data": {
      "text/plain": [
       "0.13301525327090588"
      ]
     },
     "execution_count": 64,
     "metadata": {},
     "output_type": "execute_result"
    }
   ],
   "source": [
    "marigin_of_error1=2.5758293035489004*(0.2/math.sqrt(n))  \n",
    "marigin_of_error1"
   ]
  },
  {
   "cell_type": "code",
   "execution_count": 65,
   "id": "565f0549",
   "metadata": {},
   "outputs": [
    {
     "data": {
      "text/plain": [
       "(1.1056514133957607, 1.3716819199375725)"
      ]
     },
     "execution_count": 65,
     "metadata": {},
     "output_type": "execute_result"
    }
   ],
   "source": [
    "confidence_interval1=(mean-marigin_of_error1,mean+marigin_of_error1)\n",
    "confidence_interval1"
   ]
  },
  {
   "cell_type": "code",
   "execution_count": 66,
   "id": "405792f7",
   "metadata": {},
   "outputs": [
    {
     "name": "stdout",
     "output_type": "stream",
     "text": [
      "Sample mean: 1.2386666666666666\n",
      "Sample standard deviation: 0.18661427836285438\n",
      "Degree of freedom: 14\n",
      "z_critical value: (-2.5758293035489004, 2.5758293035489004)\n",
      "Marigin of Error: 0.13301525327090588\n",
      "99% confidence interval: (1.1056514133957607, 1.3716819199375725)\n"
     ]
    }
   ],
   "source": [
    "print(\"Sample mean:\",mean)\n",
    "print(\"Sample standard deviation:\",std_dev)\n",
    "print(\"Degree of freedom:\",df)\n",
    "print(\"z_critical value:\",z_score)\n",
    "print(\"Marigin of Error:\",marigin_of_error1)\n",
    "print(\"99% confidence interval:\",confidence_interval1)"
   ]
  },
  {
   "cell_type": "code",
   "execution_count": null,
   "id": "8ee49635",
   "metadata": {},
   "outputs": [],
   "source": []
  },
  {
   "cell_type": "code",
   "execution_count": null,
   "id": "766891d0",
   "metadata": {},
   "outputs": [],
   "source": []
  },
  {
   "cell_type": "code",
   "execution_count": null,
   "id": "c4faf3ac",
   "metadata": {},
   "outputs": [],
   "source": []
  }
 ],
 "metadata": {
  "kernelspec": {
   "display_name": "Python 3 (ipykernel)",
   "language": "python",
   "name": "python3"
  },
  "language_info": {
   "codemirror_mode": {
    "name": "ipython",
    "version": 3
   },
   "file_extension": ".py",
   "mimetype": "text/x-python",
   "name": "python",
   "nbconvert_exporter": "python",
   "pygments_lexer": "ipython3",
   "version": "3.11.5"
  }
 },
 "nbformat": 4,
 "nbformat_minor": 5
}
