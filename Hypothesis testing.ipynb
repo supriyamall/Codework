{
 "cells": [
  {
   "attachments": {},
   "cell_type": "markdown",
   "id": "56629a78",
   "metadata": {},
   "source": [
    "# Chi-square test"
   ]
  },
  {
   "cell_type": "code",
   "execution_count": 122,
   "id": "fa5d8b5d",
   "metadata": {},
   "outputs": [],
   "source": [
    "# H0=Customer's satisfied with smarthome devices purchased (null hypotheses, +ve assumption)\n",
    "# Ha=Customer's not satisfied with smarthome devices purchased(alternative hypotheses)"
   ]
  },
  {
   "cell_type": "code",
   "execution_count": 123,
   "id": "339515f8",
   "metadata": {},
   "outputs": [],
   "source": [
    "from scipy.stats.contingency import chi2_contingency"
   ]
  },
  {
   "cell_type": "code",
   "execution_count": 124,
   "id": "0c668a73",
   "metadata": {},
   "outputs": [],
   "source": [
    "data=[[50,70],[80,100],[60,90],[30,50],[20,50]]"
   ]
  },
  {
   "cell_type": "code",
   "execution_count": 125,
   "id": "119644e9",
   "metadata": {},
   "outputs": [],
   "source": [
    "from scipy.stats.contingency import chi2_contingency\n",
    "chi,p,df,expected=chi2_contingency(data)"
   ]
  },
  {
   "cell_type": "code",
   "execution_count": 126,
   "id": "53f3252c",
   "metadata": {
    "scrolled": true
   },
   "outputs": [
    {
     "name": "stdout",
     "output_type": "stream",
     "text": [
      "5.638227513227513 0.22784371130697179 4 [[ 48.  72.]\n",
      " [ 72. 108.]\n",
      " [ 60.  90.]\n",
      " [ 32.  48.]\n",
      " [ 28.  42.]]\n"
     ]
    }
   ],
   "source": [
    "print(chi,p,df,expected)"
   ]
  },
  {
   "cell_type": "code",
   "execution_count": 127,
   "id": "50eeec6e",
   "metadata": {},
   "outputs": [
    {
     "name": "stdout",
     "output_type": "stream",
     "text": [
      "p value is0.22784371130697179\n",
      "Customer not satisfied with smarthome device purchased(Fail to reject H0)\n"
     ]
    }
   ],
   "source": [
    "alpha=0.05\n",
    "print(\"p value is\" +str(p))\n",
    "if p<alpha:\n",
    "    print(\" Customer satisfied with smarthome device purchased(Rejecct H0)\")\n",
    "else:\n",
    "    print(\"Customer not satisfied with smarthome device purchased(Fail to reject H0)\")"
   ]
  },
  {
   "cell_type": "code",
   "execution_count": 119,
   "id": "cdf37e8e",
   "metadata": {},
   "outputs": [],
   "source": [
    "#critical value=9.488  ,from chi_sq table"
   ]
  },
  {
   "cell_type": "code",
   "execution_count": 120,
   "id": "3aa189e7",
   "metadata": {},
   "outputs": [],
   "source": [
    "import scipy.stats as stats"
   ]
  },
  {
   "cell_type": "code",
   "execution_count": 121,
   "id": "afcfc599",
   "metadata": {},
   "outputs": [
    {
     "data": {
      "text/plain": [
       "9.487729036781154"
      ]
     },
     "execution_count": 121,
     "metadata": {},
     "output_type": "execute_result"
    }
   ],
   "source": [
    "stats.chi2.ppf(1-0.05,4) #stats.chi2.ppf(1-alpha,df)"
   ]
  },
  {
   "attachments": {},
   "cell_type": "markdown",
   "id": "00029986",
   "metadata": {},
   "source": [
    "### p>alpha=fail to reject H0\n",
    "### 0.2278>o.o5=fail to reject H0,   i.e Customers satisfied with smarthome devices purchased"
   ]
  },
  {
   "attachments": {},
   "cell_type": "markdown",
   "id": "8911c484",
   "metadata": {},
   "source": [
    "### critical>statistical value=fail to reject H0\n",
    "### 9.4877>5.6382= fail to reject H0,  i.e Customers satisfied with smarthome devices purchased"
   ]
  },
  {
   "attachments": {},
   "cell_type": "markdown",
   "id": "0aae9cda",
   "metadata": {},
   "source": [
    "### conclusion:- Customers satisfied with smarthome devices(Smart Thermostats,Smart Lights) purchased"
   ]
  },
  {
   "cell_type": "code",
   "execution_count": null,
   "id": "85a0ab6d",
   "metadata": {},
   "outputs": [],
   "source": []
  },
  {
   "cell_type": "code",
   "execution_count": null,
   "id": "42f3f876",
   "metadata": {},
   "outputs": [],
   "source": []
  },
  {
   "attachments": {},
   "cell_type": "markdown",
   "id": "8605bfdc",
   "metadata": {},
   "source": [
    "# Hypothesis testing"
   ]
  },
  {
   "attachments": {},
   "cell_type": "markdown",
   "id": "9f5b365f",
   "metadata": {},
   "source": [
    "#Bombay hospitality Ltd. operates a franchise model for producing exotic Norwegian dinners throughout New England. The operating cost for a franchise in a week (W) is given by the equation W = $1,000 + $5X, where X represents the number of units produced in a week. Recent feedback from restaurant owners suggests that this cost model may no longer be accurate, as their observed weekly operating costs are higher."
   ]
  },
  {
   "attachments": {},
   "cell_type": "markdown",
   "id": "260f00ff",
   "metadata": {},
   "source": [
    "# Null Hypothesis (H0): The theoretical cost model is accurate.\n",
    "# Alternative Hypothesis (Ha): The theoretical cost model is inaccurate.\n",
    "\n"
   ]
  },
  {
   "cell_type": "code",
   "execution_count": 29,
   "id": "663d0635",
   "metadata": {},
   "outputs": [],
   "source": [
    "import pandas as pd\n",
    "import numpy as np\n",
    "import math\n",
    "import scipy.stats as stats"
   ]
  },
  {
   "cell_type": "code",
   "execution_count": 36,
   "id": "aae67c80",
   "metadata": {},
   "outputs": [],
   "source": [
    "n=25 # Sample size\n",
    "sample_mean= 3050 # Sample mean weekly cost (Rs.)\n",
    "theoretical_mean = 4000 # Theoretical mean cost (1000$ + 5 * units produced)(1000+5*600)\n",
    "std_dev=125 # Standard deviation(5*25)\n",
    "alpha=0.05 # Significance level"
   ]
  },
  {
   "cell_type": "code",
   "execution_count": 31,
   "id": "a91e848d",
   "metadata": {},
   "outputs": [],
   "source": [
    "# calculating t staticcal value"
   ]
  },
  {
   "cell_type": "code",
   "execution_count": 32,
   "id": "fd849645",
   "metadata": {},
   "outputs": [
    {
     "data": {
      "text/plain": [
       "-38.0"
      ]
     },
     "execution_count": 32,
     "metadata": {},
     "output_type": "execute_result"
    }
   ],
   "source": [
    "t_statistics= (3050-4000)/(125/np.sqrt(25))\n",
    "t_statistics\n"
   ]
  },
  {
   "cell_type": "code",
   "execution_count": 33,
   "id": "4dd57430",
   "metadata": {},
   "outputs": [],
   "source": [
    "# Calculating the t critical value"
   ]
  },
  {
   "cell_type": "code",
   "execution_count": 34,
   "id": "98830b3b",
   "metadata": {},
   "outputs": [
    {
     "data": {
      "text/plain": [
       "1.959963984540054"
      ]
     },
     "execution_count": 34,
     "metadata": {},
     "output_type": "execute_result"
    }
   ],
   "source": [
    "t_critical=stats.norm.ppf(1-0.05/2) #2_tail \n",
    "t_critical"
   ]
  },
  {
   "cell_type": "code",
   "execution_count": 37,
   "id": "de0273fb",
   "metadata": {},
   "outputs": [
    {
     "name": "stdout",
     "output_type": "stream",
     "text": [
      "Sample Mean Weekly Cost: 3050 Rs.\n",
      "Theoretical Mean Weekly Cost: 4000 Rs.\n",
      "Test Statistic (t): -38.0\n",
      "Critical Value (alpha = 0.05 ): 1.959963984540054\n"
     ]
    }
   ],
   "source": [
    "# Print results\n",
    "print(\"Sample Mean Weekly Cost:\", sample_mean, \"Rs.\")\n",
    "print(\"Theoretical Mean Weekly Cost:\", theoretical_mean, \"Rs.\")\n",
    "print(\"Test Statistic (t):\", t_statistics)\n",
    "print(\"Critical Value (alpha =\", alpha, \"):\", t_critical)\n"
   ]
  },
  {
   "cell_type": "code",
   "execution_count": 38,
   "id": "fc9276ed",
   "metadata": {},
   "outputs": [
    {
     "name": "stdout",
     "output_type": "stream",
     "text": [
      "t_ Statistic (t): -38.0\n",
      "Critical Value (+/-): 1.959963984540054\n"
     ]
    }
   ],
   "source": [
    "print(\"t_ Statistic (t):\", t_statistics)\n",
    "print(\"Critical Value (+/-):\", t_critical)"
   ]
  },
  {
   "cell_type": "code",
   "execution_count": 39,
   "id": "be7465ba",
   "metadata": {},
   "outputs": [
    {
     "name": "stdout",
     "output_type": "stream",
     "text": [
      "Reject Null Hypothesis. The observed cost deviates significantly from the model.\n"
     ]
    }
   ],
   "source": [
    "if abs(t_statistics) > t_critical:\n",
    "    \n",
    "  print(\"Reject Null Hypothesis. The observed cost deviates significantly from the model.\")\n",
    "\n",
    "else:\n",
    "  print(\"Fail to Reject Null Hypothesis. There's insufficient evidence to reject the model.\")"
   ]
  },
  {
   "cell_type": "code",
   "execution_count": null,
   "id": "7235466e",
   "metadata": {},
   "outputs": [],
   "source": []
  }
 ],
 "metadata": {
  "kernelspec": {
   "display_name": "Python 3 (ipykernel)",
   "language": "python",
   "name": "python3"
  },
  "language_info": {
   "codemirror_mode": {
    "name": "ipython",
    "version": 3
   },
   "file_extension": ".py",
   "mimetype": "text/x-python",
   "name": "python",
   "nbconvert_exporter": "python",
   "pygments_lexer": "ipython3",
   "version": "3.11.5"
  }
 },
 "nbformat": 4,
 "nbformat_minor": 5
}
